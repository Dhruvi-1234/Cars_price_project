{
  "nbformat": 4,
  "nbformat_minor": 0,
  "metadata": {
    "colab": {
      "provenance": [],
      "collapsed_sections": [],
      "authorship_tag": "ABX9TyMB6GAcrVAPZtspzK7yHcId",
      "include_colab_link": true
    },
    "kernelspec": {
      "name": "python3",
      "display_name": "Python 3"
    },
    "language_info": {
      "name": "python"
    }
  },
  "cells": [
    {
      "cell_type": "markdown",
      "metadata": {
        "id": "view-in-github",
        "colab_type": "text"
      },
      "source": [
        "<a href=\"https://colab.research.google.com/github/Dhruvi-1234/Cars_price_project/blob/main/Car_class_Project.ipynb\" target=\"_parent\"><img src=\"https://colab.research.google.com/assets/colab-badge.svg\" alt=\"Open In Colab\"/></a>"
      ]
    },
    {
      "cell_type": "code",
      "execution_count": 62,
      "metadata": {
        "id": "DX3mxJlcu7N2"
      },
      "outputs": [],
      "source": [
        "import pandas as pd"
      ]
    },
    {
      "cell_type": "code",
      "source": [
        "cars_class = pd.read_csv('cars_class.csv')"
      ],
      "metadata": {
        "id": "xE7UBF5qvs_O"
      },
      "execution_count": 63,
      "outputs": []
    },
    {
      "cell_type": "code",
      "source": [
        "cars_class.shape"
      ],
      "metadata": {
        "colab": {
          "base_uri": "https://localhost:8080/"
        },
        "id": "JbuIwb3Nv1h2",
        "outputId": "a39e5587-db43-4560-dc8f-e337ec682e05"
      },
      "execution_count": 64,
      "outputs": [
        {
          "output_type": "execute_result",
          "data": {
            "text/plain": [
              "(719, 20)"
            ]
          },
          "metadata": {},
          "execution_count": 64
        }
      ]
    },
    {
      "cell_type": "code",
      "source": [
        "cars_class.head(15)"
      ],
      "metadata": {
        "colab": {
          "base_uri": "https://localhost:8080/",
          "height": 584
        },
        "id": "Bn-pfJZ3v7Mm",
        "outputId": "9998d013-7f5e-413a-e391-69d052577be7"
      },
      "execution_count": 65,
      "outputs": [
        {
          "output_type": "execute_result",
          "data": {
            "text/plain": [
              "    ID  Comp  Circ  D.Circ  Rad.Ra  Pr.Axis.Ra  Max.L.Ra  Scat.Ra  Elong  \\\n",
              "0    1    88    39      70     166          66         7      148     44   \n",
              "1    2    85    35      64     129          57         6      116     57   \n",
              "2    3    91    41      84     141          57         9      149     45   \n",
              "3    4   102    54      98     177          56        10      219     31   \n",
              "4    5    87    39      74     152          58         6      151     44   \n",
              "5    6    95    46      76     162          66        11      162     42   \n",
              "6    7    97    35      66     151          64         8      128     52   \n",
              "7    8    96    37      74     199          74         5      165     39   \n",
              "8    9   107    55      98     199          59         7      240     27   \n",
              "9   10    86    38      89     176          59         9      169     39   \n",
              "10  11    89    40      58     137          58         7      122     54   \n",
              "11  12    92    46      83     154          56         6      160     41   \n",
              "12  13    88    40      78     186          73         6      158     41   \n",
              "13  14    97    45      76     175          60         9      157     42   \n",
              "14  15    85    36      78     149          55         7      147     45   \n",
              "\n",
              "    Pr.Axis.Rect  Max.L.Rect  Sc.Var.Maxis  Sc.Var.maxis  Ra.Gyr  Skew.Maxis  \\\n",
              "0             19         134           167           332     143          69   \n",
              "1             17         125           138           200     123          65   \n",
              "2             19         143           170           330     158          72   \n",
              "3             25         171           219           706     223          72   \n",
              "4             19         136           174           337     140          70   \n",
              "5             20         155           175           381     172          74   \n",
              "6             18         129           148           246     112          66   \n",
              "7             20         128           188           419     136          72   \n",
              "8             26         168           258           866     245          80   \n",
              "9             20         132           190           428     148          67   \n",
              "10            17         140           146           225     150          63   \n",
              "11            20         148           185           382     184          71   \n",
              "12            20         134           185           379     148          73   \n",
              "13            20         149           180           370     169          63   \n",
              "14            19         128           168           321     134          64   \n",
              "\n",
              "    Skew.maxis  Kurt.maxis  Kurt.Maxis  Holl.Ra  Class  \n",
              "0            5          13         193      201      0  \n",
              "1            1          23         196      203      3  \n",
              "2            9          14         189      199      3  \n",
              "3            5          17         186      196      1  \n",
              "4            1          33         187      196      2  \n",
              "5            8           4         184      193      3  \n",
              "6            6           2         195      200      3  \n",
              "7            1           3         196      200      0  \n",
              "8            3           1         186      184      0  \n",
              "9            7          33         193      202      1  \n",
              "10           7           4         199      206      3  \n",
              "11          10           5         186      191      2  \n",
              "12           1          11         193      197      0  \n",
              "13          16          12         198      206      2  \n",
              "14          10          24         197      203      1  "
            ],
            "text/html": [
              "\n",
              "  <div id=\"df-df9a88b5-6307-4ef6-b167-1228aa28701d\">\n",
              "    <div class=\"colab-df-container\">\n",
              "      <div>\n",
              "<style scoped>\n",
              "    .dataframe tbody tr th:only-of-type {\n",
              "        vertical-align: middle;\n",
              "    }\n",
              "\n",
              "    .dataframe tbody tr th {\n",
              "        vertical-align: top;\n",
              "    }\n",
              "\n",
              "    .dataframe thead th {\n",
              "        text-align: right;\n",
              "    }\n",
              "</style>\n",
              "<table border=\"1\" class=\"dataframe\">\n",
              "  <thead>\n",
              "    <tr style=\"text-align: right;\">\n",
              "      <th></th>\n",
              "      <th>ID</th>\n",
              "      <th>Comp</th>\n",
              "      <th>Circ</th>\n",
              "      <th>D.Circ</th>\n",
              "      <th>Rad.Ra</th>\n",
              "      <th>Pr.Axis.Ra</th>\n",
              "      <th>Max.L.Ra</th>\n",
              "      <th>Scat.Ra</th>\n",
              "      <th>Elong</th>\n",
              "      <th>Pr.Axis.Rect</th>\n",
              "      <th>Max.L.Rect</th>\n",
              "      <th>Sc.Var.Maxis</th>\n",
              "      <th>Sc.Var.maxis</th>\n",
              "      <th>Ra.Gyr</th>\n",
              "      <th>Skew.Maxis</th>\n",
              "      <th>Skew.maxis</th>\n",
              "      <th>Kurt.maxis</th>\n",
              "      <th>Kurt.Maxis</th>\n",
              "      <th>Holl.Ra</th>\n",
              "      <th>Class</th>\n",
              "    </tr>\n",
              "  </thead>\n",
              "  <tbody>\n",
              "    <tr>\n",
              "      <th>0</th>\n",
              "      <td>1</td>\n",
              "      <td>88</td>\n",
              "      <td>39</td>\n",
              "      <td>70</td>\n",
              "      <td>166</td>\n",
              "      <td>66</td>\n",
              "      <td>7</td>\n",
              "      <td>148</td>\n",
              "      <td>44</td>\n",
              "      <td>19</td>\n",
              "      <td>134</td>\n",
              "      <td>167</td>\n",
              "      <td>332</td>\n",
              "      <td>143</td>\n",
              "      <td>69</td>\n",
              "      <td>5</td>\n",
              "      <td>13</td>\n",
              "      <td>193</td>\n",
              "      <td>201</td>\n",
              "      <td>0</td>\n",
              "    </tr>\n",
              "    <tr>\n",
              "      <th>1</th>\n",
              "      <td>2</td>\n",
              "      <td>85</td>\n",
              "      <td>35</td>\n",
              "      <td>64</td>\n",
              "      <td>129</td>\n",
              "      <td>57</td>\n",
              "      <td>6</td>\n",
              "      <td>116</td>\n",
              "      <td>57</td>\n",
              "      <td>17</td>\n",
              "      <td>125</td>\n",
              "      <td>138</td>\n",
              "      <td>200</td>\n",
              "      <td>123</td>\n",
              "      <td>65</td>\n",
              "      <td>1</td>\n",
              "      <td>23</td>\n",
              "      <td>196</td>\n",
              "      <td>203</td>\n",
              "      <td>3</td>\n",
              "    </tr>\n",
              "    <tr>\n",
              "      <th>2</th>\n",
              "      <td>3</td>\n",
              "      <td>91</td>\n",
              "      <td>41</td>\n",
              "      <td>84</td>\n",
              "      <td>141</td>\n",
              "      <td>57</td>\n",
              "      <td>9</td>\n",
              "      <td>149</td>\n",
              "      <td>45</td>\n",
              "      <td>19</td>\n",
              "      <td>143</td>\n",
              "      <td>170</td>\n",
              "      <td>330</td>\n",
              "      <td>158</td>\n",
              "      <td>72</td>\n",
              "      <td>9</td>\n",
              "      <td>14</td>\n",
              "      <td>189</td>\n",
              "      <td>199</td>\n",
              "      <td>3</td>\n",
              "    </tr>\n",
              "    <tr>\n",
              "      <th>3</th>\n",
              "      <td>4</td>\n",
              "      <td>102</td>\n",
              "      <td>54</td>\n",
              "      <td>98</td>\n",
              "      <td>177</td>\n",
              "      <td>56</td>\n",
              "      <td>10</td>\n",
              "      <td>219</td>\n",
              "      <td>31</td>\n",
              "      <td>25</td>\n",
              "      <td>171</td>\n",
              "      <td>219</td>\n",
              "      <td>706</td>\n",
              "      <td>223</td>\n",
              "      <td>72</td>\n",
              "      <td>5</td>\n",
              "      <td>17</td>\n",
              "      <td>186</td>\n",
              "      <td>196</td>\n",
              "      <td>1</td>\n",
              "    </tr>\n",
              "    <tr>\n",
              "      <th>4</th>\n",
              "      <td>5</td>\n",
              "      <td>87</td>\n",
              "      <td>39</td>\n",
              "      <td>74</td>\n",
              "      <td>152</td>\n",
              "      <td>58</td>\n",
              "      <td>6</td>\n",
              "      <td>151</td>\n",
              "      <td>44</td>\n",
              "      <td>19</td>\n",
              "      <td>136</td>\n",
              "      <td>174</td>\n",
              "      <td>337</td>\n",
              "      <td>140</td>\n",
              "      <td>70</td>\n",
              "      <td>1</td>\n",
              "      <td>33</td>\n",
              "      <td>187</td>\n",
              "      <td>196</td>\n",
              "      <td>2</td>\n",
              "    </tr>\n",
              "    <tr>\n",
              "      <th>5</th>\n",
              "      <td>6</td>\n",
              "      <td>95</td>\n",
              "      <td>46</td>\n",
              "      <td>76</td>\n",
              "      <td>162</td>\n",
              "      <td>66</td>\n",
              "      <td>11</td>\n",
              "      <td>162</td>\n",
              "      <td>42</td>\n",
              "      <td>20</td>\n",
              "      <td>155</td>\n",
              "      <td>175</td>\n",
              "      <td>381</td>\n",
              "      <td>172</td>\n",
              "      <td>74</td>\n",
              "      <td>8</td>\n",
              "      <td>4</td>\n",
              "      <td>184</td>\n",
              "      <td>193</td>\n",
              "      <td>3</td>\n",
              "    </tr>\n",
              "    <tr>\n",
              "      <th>6</th>\n",
              "      <td>7</td>\n",
              "      <td>97</td>\n",
              "      <td>35</td>\n",
              "      <td>66</td>\n",
              "      <td>151</td>\n",
              "      <td>64</td>\n",
              "      <td>8</td>\n",
              "      <td>128</td>\n",
              "      <td>52</td>\n",
              "      <td>18</td>\n",
              "      <td>129</td>\n",
              "      <td>148</td>\n",
              "      <td>246</td>\n",
              "      <td>112</td>\n",
              "      <td>66</td>\n",
              "      <td>6</td>\n",
              "      <td>2</td>\n",
              "      <td>195</td>\n",
              "      <td>200</td>\n",
              "      <td>3</td>\n",
              "    </tr>\n",
              "    <tr>\n",
              "      <th>7</th>\n",
              "      <td>8</td>\n",
              "      <td>96</td>\n",
              "      <td>37</td>\n",
              "      <td>74</td>\n",
              "      <td>199</td>\n",
              "      <td>74</td>\n",
              "      <td>5</td>\n",
              "      <td>165</td>\n",
              "      <td>39</td>\n",
              "      <td>20</td>\n",
              "      <td>128</td>\n",
              "      <td>188</td>\n",
              "      <td>419</td>\n",
              "      <td>136</td>\n",
              "      <td>72</td>\n",
              "      <td>1</td>\n",
              "      <td>3</td>\n",
              "      <td>196</td>\n",
              "      <td>200</td>\n",
              "      <td>0</td>\n",
              "    </tr>\n",
              "    <tr>\n",
              "      <th>8</th>\n",
              "      <td>9</td>\n",
              "      <td>107</td>\n",
              "      <td>55</td>\n",
              "      <td>98</td>\n",
              "      <td>199</td>\n",
              "      <td>59</td>\n",
              "      <td>7</td>\n",
              "      <td>240</td>\n",
              "      <td>27</td>\n",
              "      <td>26</td>\n",
              "      <td>168</td>\n",
              "      <td>258</td>\n",
              "      <td>866</td>\n",
              "      <td>245</td>\n",
              "      <td>80</td>\n",
              "      <td>3</td>\n",
              "      <td>1</td>\n",
              "      <td>186</td>\n",
              "      <td>184</td>\n",
              "      <td>0</td>\n",
              "    </tr>\n",
              "    <tr>\n",
              "      <th>9</th>\n",
              "      <td>10</td>\n",
              "      <td>86</td>\n",
              "      <td>38</td>\n",
              "      <td>89</td>\n",
              "      <td>176</td>\n",
              "      <td>59</td>\n",
              "      <td>9</td>\n",
              "      <td>169</td>\n",
              "      <td>39</td>\n",
              "      <td>20</td>\n",
              "      <td>132</td>\n",
              "      <td>190</td>\n",
              "      <td>428</td>\n",
              "      <td>148</td>\n",
              "      <td>67</td>\n",
              "      <td>7</td>\n",
              "      <td>33</td>\n",
              "      <td>193</td>\n",
              "      <td>202</td>\n",
              "      <td>1</td>\n",
              "    </tr>\n",
              "    <tr>\n",
              "      <th>10</th>\n",
              "      <td>11</td>\n",
              "      <td>89</td>\n",
              "      <td>40</td>\n",
              "      <td>58</td>\n",
              "      <td>137</td>\n",
              "      <td>58</td>\n",
              "      <td>7</td>\n",
              "      <td>122</td>\n",
              "      <td>54</td>\n",
              "      <td>17</td>\n",
              "      <td>140</td>\n",
              "      <td>146</td>\n",
              "      <td>225</td>\n",
              "      <td>150</td>\n",
              "      <td>63</td>\n",
              "      <td>7</td>\n",
              "      <td>4</td>\n",
              "      <td>199</td>\n",
              "      <td>206</td>\n",
              "      <td>3</td>\n",
              "    </tr>\n",
              "    <tr>\n",
              "      <th>11</th>\n",
              "      <td>12</td>\n",
              "      <td>92</td>\n",
              "      <td>46</td>\n",
              "      <td>83</td>\n",
              "      <td>154</td>\n",
              "      <td>56</td>\n",
              "      <td>6</td>\n",
              "      <td>160</td>\n",
              "      <td>41</td>\n",
              "      <td>20</td>\n",
              "      <td>148</td>\n",
              "      <td>185</td>\n",
              "      <td>382</td>\n",
              "      <td>184</td>\n",
              "      <td>71</td>\n",
              "      <td>10</td>\n",
              "      <td>5</td>\n",
              "      <td>186</td>\n",
              "      <td>191</td>\n",
              "      <td>2</td>\n",
              "    </tr>\n",
              "    <tr>\n",
              "      <th>12</th>\n",
              "      <td>13</td>\n",
              "      <td>88</td>\n",
              "      <td>40</td>\n",
              "      <td>78</td>\n",
              "      <td>186</td>\n",
              "      <td>73</td>\n",
              "      <td>6</td>\n",
              "      <td>158</td>\n",
              "      <td>41</td>\n",
              "      <td>20</td>\n",
              "      <td>134</td>\n",
              "      <td>185</td>\n",
              "      <td>379</td>\n",
              "      <td>148</td>\n",
              "      <td>73</td>\n",
              "      <td>1</td>\n",
              "      <td>11</td>\n",
              "      <td>193</td>\n",
              "      <td>197</td>\n",
              "      <td>0</td>\n",
              "    </tr>\n",
              "    <tr>\n",
              "      <th>13</th>\n",
              "      <td>14</td>\n",
              "      <td>97</td>\n",
              "      <td>45</td>\n",
              "      <td>76</td>\n",
              "      <td>175</td>\n",
              "      <td>60</td>\n",
              "      <td>9</td>\n",
              "      <td>157</td>\n",
              "      <td>42</td>\n",
              "      <td>20</td>\n",
              "      <td>149</td>\n",
              "      <td>180</td>\n",
              "      <td>370</td>\n",
              "      <td>169</td>\n",
              "      <td>63</td>\n",
              "      <td>16</td>\n",
              "      <td>12</td>\n",
              "      <td>198</td>\n",
              "      <td>206</td>\n",
              "      <td>2</td>\n",
              "    </tr>\n",
              "    <tr>\n",
              "      <th>14</th>\n",
              "      <td>15</td>\n",
              "      <td>85</td>\n",
              "      <td>36</td>\n",
              "      <td>78</td>\n",
              "      <td>149</td>\n",
              "      <td>55</td>\n",
              "      <td>7</td>\n",
              "      <td>147</td>\n",
              "      <td>45</td>\n",
              "      <td>19</td>\n",
              "      <td>128</td>\n",
              "      <td>168</td>\n",
              "      <td>321</td>\n",
              "      <td>134</td>\n",
              "      <td>64</td>\n",
              "      <td>10</td>\n",
              "      <td>24</td>\n",
              "      <td>197</td>\n",
              "      <td>203</td>\n",
              "      <td>1</td>\n",
              "    </tr>\n",
              "  </tbody>\n",
              "</table>\n",
              "</div>\n",
              "      <button class=\"colab-df-convert\" onclick=\"convertToInteractive('df-df9a88b5-6307-4ef6-b167-1228aa28701d')\"\n",
              "              title=\"Convert this dataframe to an interactive table.\"\n",
              "              style=\"display:none;\">\n",
              "        \n",
              "  <svg xmlns=\"http://www.w3.org/2000/svg\" height=\"24px\"viewBox=\"0 0 24 24\"\n",
              "       width=\"24px\">\n",
              "    <path d=\"M0 0h24v24H0V0z\" fill=\"none\"/>\n",
              "    <path d=\"M18.56 5.44l.94 2.06.94-2.06 2.06-.94-2.06-.94-.94-2.06-.94 2.06-2.06.94zm-11 1L8.5 8.5l.94-2.06 2.06-.94-2.06-.94L8.5 2.5l-.94 2.06-2.06.94zm10 10l.94 2.06.94-2.06 2.06-.94-2.06-.94-.94-2.06-.94 2.06-2.06.94z\"/><path d=\"M17.41 7.96l-1.37-1.37c-.4-.4-.92-.59-1.43-.59-.52 0-1.04.2-1.43.59L10.3 9.45l-7.72 7.72c-.78.78-.78 2.05 0 2.83L4 21.41c.39.39.9.59 1.41.59.51 0 1.02-.2 1.41-.59l7.78-7.78 2.81-2.81c.8-.78.8-2.07 0-2.86zM5.41 20L4 18.59l7.72-7.72 1.47 1.35L5.41 20z\"/>\n",
              "  </svg>\n",
              "      </button>\n",
              "      \n",
              "  <style>\n",
              "    .colab-df-container {\n",
              "      display:flex;\n",
              "      flex-wrap:wrap;\n",
              "      gap: 12px;\n",
              "    }\n",
              "\n",
              "    .colab-df-convert {\n",
              "      background-color: #E8F0FE;\n",
              "      border: none;\n",
              "      border-radius: 50%;\n",
              "      cursor: pointer;\n",
              "      display: none;\n",
              "      fill: #1967D2;\n",
              "      height: 32px;\n",
              "      padding: 0 0 0 0;\n",
              "      width: 32px;\n",
              "    }\n",
              "\n",
              "    .colab-df-convert:hover {\n",
              "      background-color: #E2EBFA;\n",
              "      box-shadow: 0px 1px 2px rgba(60, 64, 67, 0.3), 0px 1px 3px 1px rgba(60, 64, 67, 0.15);\n",
              "      fill: #174EA6;\n",
              "    }\n",
              "\n",
              "    [theme=dark] .colab-df-convert {\n",
              "      background-color: #3B4455;\n",
              "      fill: #D2E3FC;\n",
              "    }\n",
              "\n",
              "    [theme=dark] .colab-df-convert:hover {\n",
              "      background-color: #434B5C;\n",
              "      box-shadow: 0px 1px 3px 1px rgba(0, 0, 0, 0.15);\n",
              "      filter: drop-shadow(0px 1px 2px rgba(0, 0, 0, 0.3));\n",
              "      fill: #FFFFFF;\n",
              "    }\n",
              "  </style>\n",
              "\n",
              "      <script>\n",
              "        const buttonEl =\n",
              "          document.querySelector('#df-df9a88b5-6307-4ef6-b167-1228aa28701d button.colab-df-convert');\n",
              "        buttonEl.style.display =\n",
              "          google.colab.kernel.accessAllowed ? 'block' : 'none';\n",
              "\n",
              "        async function convertToInteractive(key) {\n",
              "          const element = document.querySelector('#df-df9a88b5-6307-4ef6-b167-1228aa28701d');\n",
              "          const dataTable =\n",
              "            await google.colab.kernel.invokeFunction('convertToInteractive',\n",
              "                                                     [key], {});\n",
              "          if (!dataTable) return;\n",
              "\n",
              "          const docLinkHtml = 'Like what you see? Visit the ' +\n",
              "            '<a target=\"_blank\" href=https://colab.research.google.com/notebooks/data_table.ipynb>data table notebook</a>'\n",
              "            + ' to learn more about interactive tables.';\n",
              "          element.innerHTML = '';\n",
              "          dataTable['output_type'] = 'display_data';\n",
              "          await google.colab.output.renderOutput(dataTable, element);\n",
              "          const docLink = document.createElement('div');\n",
              "          docLink.innerHTML = docLinkHtml;\n",
              "          element.appendChild(docLink);\n",
              "        }\n",
              "      </script>\n",
              "    </div>\n",
              "  </div>\n",
              "  "
            ]
          },
          "metadata": {},
          "execution_count": 65
        }
      ]
    },
    {
      "cell_type": "code",
      "source": [
        "cars_class.Class.value_counts() # to check the distribution of classes in the target column"
      ],
      "metadata": {
        "colab": {
          "base_uri": "https://localhost:8080/"
        },
        "id": "8W2eC1sA1y9Y",
        "outputId": "14c097cd-e321-48db-d916-69cd5e237049"
      },
      "execution_count": 66,
      "outputs": [
        {
          "output_type": "execute_result",
          "data": {
            "text/plain": [
              "0    189\n",
              "1    180\n",
              "3    177\n",
              "2    173\n",
              "Name: Class, dtype: int64"
            ]
          },
          "metadata": {},
          "execution_count": 66
        }
      ]
    },
    {
      "cell_type": "code",
      "source": [
        "cars_class.duplicated().sum() # to check the duplicated values in the data"
      ],
      "metadata": {
        "colab": {
          "base_uri": "https://localhost:8080/"
        },
        "id": "FEu80TaK2FaS",
        "outputId": "0ab2bb56-7eb4-46ce-8d81-f1f6782e1a20"
      },
      "execution_count": 67,
      "outputs": [
        {
          "output_type": "execute_result",
          "data": {
            "text/plain": [
              "0"
            ]
          },
          "metadata": {},
          "execution_count": 67
        }
      ]
    },
    {
      "cell_type": "code",
      "source": [
        "cars_class.describe()"
      ],
      "metadata": {
        "colab": {
          "base_uri": "https://localhost:8080/",
          "height": 364
        },
        "id": "Y0A3rfcvw1r2",
        "outputId": "8de9d11b-10b0-4171-eab4-b76c63bd83f4"
      },
      "execution_count": 68,
      "outputs": [
        {
          "output_type": "execute_result",
          "data": {
            "text/plain": [
              "               ID        Comp        Circ      D.Circ      Rad.Ra  Pr.Axis.Ra  \\\n",
              "count  719.000000  719.000000  719.000000  719.000000  719.000000  719.000000   \n",
              "mean   360.000000   93.435327   44.851182   81.723227  168.579972   61.847010   \n",
              "std    207.701709    8.111406    6.150286   15.528208   33.809172    8.259136   \n",
              "min      1.000000   73.000000   33.000000   40.000000  105.000000   47.000000   \n",
              "25%    180.500000   87.000000   40.000000   70.000000  141.000000   57.000000   \n",
              "50%    360.000000   93.000000   44.000000   79.000000  166.000000   61.000000   \n",
              "75%    539.500000   99.000000   49.000000   96.000000  194.500000   65.000000   \n",
              "max    719.000000  119.000000   59.000000  110.000000  333.000000  138.000000   \n",
              "\n",
              "         Max.L.Ra     Scat.Ra       Elong  Pr.Axis.Rect  Max.L.Rect  \\\n",
              "count  719.000000  719.000000  719.000000    719.000000  719.000000   \n",
              "mean     8.625869  168.137691   41.075104     20.531293  148.030598   \n",
              "std      4.916908   32.937591    7.764459      2.560969   14.560092   \n",
              "min      2.000000  112.000000   26.000000     17.000000  118.000000   \n",
              "25%      6.000000  146.000000   33.000000     19.000000  137.000000   \n",
              "50%      8.000000  157.000000   43.000000     20.000000  146.000000   \n",
              "75%     10.000000  197.500000   46.000000     23.000000  159.000000   \n",
              "max     55.000000  265.000000   61.000000     29.000000  188.000000   \n",
              "\n",
              "       Sc.Var.Maxis  Sc.Var.maxis      Ra.Gyr  Skew.Maxis  Skew.maxis  \\\n",
              "count    719.000000    719.000000  719.000000  719.000000  719.000000   \n",
              "mean     188.168289    436.215577  174.726008   72.682893    6.343533   \n",
              "std       31.235395    174.964977   32.149568    7.542055    4.856169   \n",
              "min      130.000000    184.000000  109.000000   59.000000    0.000000   \n",
              "25%      167.000000    317.000000  149.000000   68.000000    2.000000   \n",
              "50%      178.000000    362.000000  174.000000   72.000000    6.000000   \n",
              "75%      216.000000    584.500000  198.000000   76.000000    9.000000   \n",
              "max      320.000000   1018.000000  262.000000  135.000000   22.000000   \n",
              "\n",
              "       Kurt.maxis  Kurt.Maxis     Holl.Ra       Class  \n",
              "count  719.000000  719.000000  719.000000  719.000000  \n",
              "mean    12.394993  188.798331  195.407510    1.470097  \n",
              "std      8.742511    6.048522    7.235166    1.126477  \n",
              "min      0.000000  176.000000  181.000000    0.000000  \n",
              "25%      5.500000  184.000000  190.000000    0.000000  \n",
              "50%     11.000000  188.000000  196.000000    1.000000  \n",
              "75%     18.000000  193.000000  201.000000    2.000000  \n",
              "max     41.000000  204.000000  211.000000    3.000000  "
            ],
            "text/html": [
              "\n",
              "  <div id=\"df-2b028052-b074-4766-b7d6-bbe4791bce3b\">\n",
              "    <div class=\"colab-df-container\">\n",
              "      <div>\n",
              "<style scoped>\n",
              "    .dataframe tbody tr th:only-of-type {\n",
              "        vertical-align: middle;\n",
              "    }\n",
              "\n",
              "    .dataframe tbody tr th {\n",
              "        vertical-align: top;\n",
              "    }\n",
              "\n",
              "    .dataframe thead th {\n",
              "        text-align: right;\n",
              "    }\n",
              "</style>\n",
              "<table border=\"1\" class=\"dataframe\">\n",
              "  <thead>\n",
              "    <tr style=\"text-align: right;\">\n",
              "      <th></th>\n",
              "      <th>ID</th>\n",
              "      <th>Comp</th>\n",
              "      <th>Circ</th>\n",
              "      <th>D.Circ</th>\n",
              "      <th>Rad.Ra</th>\n",
              "      <th>Pr.Axis.Ra</th>\n",
              "      <th>Max.L.Ra</th>\n",
              "      <th>Scat.Ra</th>\n",
              "      <th>Elong</th>\n",
              "      <th>Pr.Axis.Rect</th>\n",
              "      <th>Max.L.Rect</th>\n",
              "      <th>Sc.Var.Maxis</th>\n",
              "      <th>Sc.Var.maxis</th>\n",
              "      <th>Ra.Gyr</th>\n",
              "      <th>Skew.Maxis</th>\n",
              "      <th>Skew.maxis</th>\n",
              "      <th>Kurt.maxis</th>\n",
              "      <th>Kurt.Maxis</th>\n",
              "      <th>Holl.Ra</th>\n",
              "      <th>Class</th>\n",
              "    </tr>\n",
              "  </thead>\n",
              "  <tbody>\n",
              "    <tr>\n",
              "      <th>count</th>\n",
              "      <td>719.000000</td>\n",
              "      <td>719.000000</td>\n",
              "      <td>719.000000</td>\n",
              "      <td>719.000000</td>\n",
              "      <td>719.000000</td>\n",
              "      <td>719.000000</td>\n",
              "      <td>719.000000</td>\n",
              "      <td>719.000000</td>\n",
              "      <td>719.000000</td>\n",
              "      <td>719.000000</td>\n",
              "      <td>719.000000</td>\n",
              "      <td>719.000000</td>\n",
              "      <td>719.000000</td>\n",
              "      <td>719.000000</td>\n",
              "      <td>719.000000</td>\n",
              "      <td>719.000000</td>\n",
              "      <td>719.000000</td>\n",
              "      <td>719.000000</td>\n",
              "      <td>719.000000</td>\n",
              "      <td>719.000000</td>\n",
              "    </tr>\n",
              "    <tr>\n",
              "      <th>mean</th>\n",
              "      <td>360.000000</td>\n",
              "      <td>93.435327</td>\n",
              "      <td>44.851182</td>\n",
              "      <td>81.723227</td>\n",
              "      <td>168.579972</td>\n",
              "      <td>61.847010</td>\n",
              "      <td>8.625869</td>\n",
              "      <td>168.137691</td>\n",
              "      <td>41.075104</td>\n",
              "      <td>20.531293</td>\n",
              "      <td>148.030598</td>\n",
              "      <td>188.168289</td>\n",
              "      <td>436.215577</td>\n",
              "      <td>174.726008</td>\n",
              "      <td>72.682893</td>\n",
              "      <td>6.343533</td>\n",
              "      <td>12.394993</td>\n",
              "      <td>188.798331</td>\n",
              "      <td>195.407510</td>\n",
              "      <td>1.470097</td>\n",
              "    </tr>\n",
              "    <tr>\n",
              "      <th>std</th>\n",
              "      <td>207.701709</td>\n",
              "      <td>8.111406</td>\n",
              "      <td>6.150286</td>\n",
              "      <td>15.528208</td>\n",
              "      <td>33.809172</td>\n",
              "      <td>8.259136</td>\n",
              "      <td>4.916908</td>\n",
              "      <td>32.937591</td>\n",
              "      <td>7.764459</td>\n",
              "      <td>2.560969</td>\n",
              "      <td>14.560092</td>\n",
              "      <td>31.235395</td>\n",
              "      <td>174.964977</td>\n",
              "      <td>32.149568</td>\n",
              "      <td>7.542055</td>\n",
              "      <td>4.856169</td>\n",
              "      <td>8.742511</td>\n",
              "      <td>6.048522</td>\n",
              "      <td>7.235166</td>\n",
              "      <td>1.126477</td>\n",
              "    </tr>\n",
              "    <tr>\n",
              "      <th>min</th>\n",
              "      <td>1.000000</td>\n",
              "      <td>73.000000</td>\n",
              "      <td>33.000000</td>\n",
              "      <td>40.000000</td>\n",
              "      <td>105.000000</td>\n",
              "      <td>47.000000</td>\n",
              "      <td>2.000000</td>\n",
              "      <td>112.000000</td>\n",
              "      <td>26.000000</td>\n",
              "      <td>17.000000</td>\n",
              "      <td>118.000000</td>\n",
              "      <td>130.000000</td>\n",
              "      <td>184.000000</td>\n",
              "      <td>109.000000</td>\n",
              "      <td>59.000000</td>\n",
              "      <td>0.000000</td>\n",
              "      <td>0.000000</td>\n",
              "      <td>176.000000</td>\n",
              "      <td>181.000000</td>\n",
              "      <td>0.000000</td>\n",
              "    </tr>\n",
              "    <tr>\n",
              "      <th>25%</th>\n",
              "      <td>180.500000</td>\n",
              "      <td>87.000000</td>\n",
              "      <td>40.000000</td>\n",
              "      <td>70.000000</td>\n",
              "      <td>141.000000</td>\n",
              "      <td>57.000000</td>\n",
              "      <td>6.000000</td>\n",
              "      <td>146.000000</td>\n",
              "      <td>33.000000</td>\n",
              "      <td>19.000000</td>\n",
              "      <td>137.000000</td>\n",
              "      <td>167.000000</td>\n",
              "      <td>317.000000</td>\n",
              "      <td>149.000000</td>\n",
              "      <td>68.000000</td>\n",
              "      <td>2.000000</td>\n",
              "      <td>5.500000</td>\n",
              "      <td>184.000000</td>\n",
              "      <td>190.000000</td>\n",
              "      <td>0.000000</td>\n",
              "    </tr>\n",
              "    <tr>\n",
              "      <th>50%</th>\n",
              "      <td>360.000000</td>\n",
              "      <td>93.000000</td>\n",
              "      <td>44.000000</td>\n",
              "      <td>79.000000</td>\n",
              "      <td>166.000000</td>\n",
              "      <td>61.000000</td>\n",
              "      <td>8.000000</td>\n",
              "      <td>157.000000</td>\n",
              "      <td>43.000000</td>\n",
              "      <td>20.000000</td>\n",
              "      <td>146.000000</td>\n",
              "      <td>178.000000</td>\n",
              "      <td>362.000000</td>\n",
              "      <td>174.000000</td>\n",
              "      <td>72.000000</td>\n",
              "      <td>6.000000</td>\n",
              "      <td>11.000000</td>\n",
              "      <td>188.000000</td>\n",
              "      <td>196.000000</td>\n",
              "      <td>1.000000</td>\n",
              "    </tr>\n",
              "    <tr>\n",
              "      <th>75%</th>\n",
              "      <td>539.500000</td>\n",
              "      <td>99.000000</td>\n",
              "      <td>49.000000</td>\n",
              "      <td>96.000000</td>\n",
              "      <td>194.500000</td>\n",
              "      <td>65.000000</td>\n",
              "      <td>10.000000</td>\n",
              "      <td>197.500000</td>\n",
              "      <td>46.000000</td>\n",
              "      <td>23.000000</td>\n",
              "      <td>159.000000</td>\n",
              "      <td>216.000000</td>\n",
              "      <td>584.500000</td>\n",
              "      <td>198.000000</td>\n",
              "      <td>76.000000</td>\n",
              "      <td>9.000000</td>\n",
              "      <td>18.000000</td>\n",
              "      <td>193.000000</td>\n",
              "      <td>201.000000</td>\n",
              "      <td>2.000000</td>\n",
              "    </tr>\n",
              "    <tr>\n",
              "      <th>max</th>\n",
              "      <td>719.000000</td>\n",
              "      <td>119.000000</td>\n",
              "      <td>59.000000</td>\n",
              "      <td>110.000000</td>\n",
              "      <td>333.000000</td>\n",
              "      <td>138.000000</td>\n",
              "      <td>55.000000</td>\n",
              "      <td>265.000000</td>\n",
              "      <td>61.000000</td>\n",
              "      <td>29.000000</td>\n",
              "      <td>188.000000</td>\n",
              "      <td>320.000000</td>\n",
              "      <td>1018.000000</td>\n",
              "      <td>262.000000</td>\n",
              "      <td>135.000000</td>\n",
              "      <td>22.000000</td>\n",
              "      <td>41.000000</td>\n",
              "      <td>204.000000</td>\n",
              "      <td>211.000000</td>\n",
              "      <td>3.000000</td>\n",
              "    </tr>\n",
              "  </tbody>\n",
              "</table>\n",
              "</div>\n",
              "      <button class=\"colab-df-convert\" onclick=\"convertToInteractive('df-2b028052-b074-4766-b7d6-bbe4791bce3b')\"\n",
              "              title=\"Convert this dataframe to an interactive table.\"\n",
              "              style=\"display:none;\">\n",
              "        \n",
              "  <svg xmlns=\"http://www.w3.org/2000/svg\" height=\"24px\"viewBox=\"0 0 24 24\"\n",
              "       width=\"24px\">\n",
              "    <path d=\"M0 0h24v24H0V0z\" fill=\"none\"/>\n",
              "    <path d=\"M18.56 5.44l.94 2.06.94-2.06 2.06-.94-2.06-.94-.94-2.06-.94 2.06-2.06.94zm-11 1L8.5 8.5l.94-2.06 2.06-.94-2.06-.94L8.5 2.5l-.94 2.06-2.06.94zm10 10l.94 2.06.94-2.06 2.06-.94-2.06-.94-.94-2.06-.94 2.06-2.06.94z\"/><path d=\"M17.41 7.96l-1.37-1.37c-.4-.4-.92-.59-1.43-.59-.52 0-1.04.2-1.43.59L10.3 9.45l-7.72 7.72c-.78.78-.78 2.05 0 2.83L4 21.41c.39.39.9.59 1.41.59.51 0 1.02-.2 1.41-.59l7.78-7.78 2.81-2.81c.8-.78.8-2.07 0-2.86zM5.41 20L4 18.59l7.72-7.72 1.47 1.35L5.41 20z\"/>\n",
              "  </svg>\n",
              "      </button>\n",
              "      \n",
              "  <style>\n",
              "    .colab-df-container {\n",
              "      display:flex;\n",
              "      flex-wrap:wrap;\n",
              "      gap: 12px;\n",
              "    }\n",
              "\n",
              "    .colab-df-convert {\n",
              "      background-color: #E8F0FE;\n",
              "      border: none;\n",
              "      border-radius: 50%;\n",
              "      cursor: pointer;\n",
              "      display: none;\n",
              "      fill: #1967D2;\n",
              "      height: 32px;\n",
              "      padding: 0 0 0 0;\n",
              "      width: 32px;\n",
              "    }\n",
              "\n",
              "    .colab-df-convert:hover {\n",
              "      background-color: #E2EBFA;\n",
              "      box-shadow: 0px 1px 2px rgba(60, 64, 67, 0.3), 0px 1px 3px 1px rgba(60, 64, 67, 0.15);\n",
              "      fill: #174EA6;\n",
              "    }\n",
              "\n",
              "    [theme=dark] .colab-df-convert {\n",
              "      background-color: #3B4455;\n",
              "      fill: #D2E3FC;\n",
              "    }\n",
              "\n",
              "    [theme=dark] .colab-df-convert:hover {\n",
              "      background-color: #434B5C;\n",
              "      box-shadow: 0px 1px 3px 1px rgba(0, 0, 0, 0.15);\n",
              "      filter: drop-shadow(0px 1px 2px rgba(0, 0, 0, 0.3));\n",
              "      fill: #FFFFFF;\n",
              "    }\n",
              "  </style>\n",
              "\n",
              "      <script>\n",
              "        const buttonEl =\n",
              "          document.querySelector('#df-2b028052-b074-4766-b7d6-bbe4791bce3b button.colab-df-convert');\n",
              "        buttonEl.style.display =\n",
              "          google.colab.kernel.accessAllowed ? 'block' : 'none';\n",
              "\n",
              "        async function convertToInteractive(key) {\n",
              "          const element = document.querySelector('#df-2b028052-b074-4766-b7d6-bbe4791bce3b');\n",
              "          const dataTable =\n",
              "            await google.colab.kernel.invokeFunction('convertToInteractive',\n",
              "                                                     [key], {});\n",
              "          if (!dataTable) return;\n",
              "\n",
              "          const docLinkHtml = 'Like what you see? Visit the ' +\n",
              "            '<a target=\"_blank\" href=https://colab.research.google.com/notebooks/data_table.ipynb>data table notebook</a>'\n",
              "            + ' to learn more about interactive tables.';\n",
              "          element.innerHTML = '';\n",
              "          dataTable['output_type'] = 'display_data';\n",
              "          await google.colab.output.renderOutput(dataTable, element);\n",
              "          const docLink = document.createElement('div');\n",
              "          docLink.innerHTML = docLinkHtml;\n",
              "          element.appendChild(docLink);\n",
              "        }\n",
              "      </script>\n",
              "    </div>\n",
              "  </div>\n",
              "  "
            ]
          },
          "metadata": {},
          "execution_count": 68
        }
      ]
    },
    {
      "cell_type": "code",
      "source": [
        "cars_class.isnull().sum()"
      ],
      "metadata": {
        "colab": {
          "base_uri": "https://localhost:8080/"
        },
        "id": "BIqa_x49w6QY",
        "outputId": "2d001605-7452-4cc4-d39c-f304f61ab1ca"
      },
      "execution_count": 69,
      "outputs": [
        {
          "output_type": "execute_result",
          "data": {
            "text/plain": [
              "ID              0\n",
              "Comp            0\n",
              "Circ            0\n",
              "D.Circ          0\n",
              "Rad.Ra          0\n",
              "Pr.Axis.Ra      0\n",
              "Max.L.Ra        0\n",
              "Scat.Ra         0\n",
              "Elong           0\n",
              "Pr.Axis.Rect    0\n",
              "Max.L.Rect      0\n",
              "Sc.Var.Maxis    0\n",
              "Sc.Var.maxis    0\n",
              "Ra.Gyr          0\n",
              "Skew.Maxis      0\n",
              "Skew.maxis      0\n",
              "Kurt.maxis      0\n",
              "Kurt.Maxis      0\n",
              "Holl.Ra         0\n",
              "Class           0\n",
              "dtype: int64"
            ]
          },
          "metadata": {},
          "execution_count": 69
        }
      ]
    },
    {
      "cell_type": "code",
      "source": [
        "cars_class.dtypes"
      ],
      "metadata": {
        "colab": {
          "base_uri": "https://localhost:8080/"
        },
        "id": "aXXd74MFxGUy",
        "outputId": "5f7db1a9-be0a-4989-a6e6-2d8da882cc79"
      },
      "execution_count": 70,
      "outputs": [
        {
          "output_type": "execute_result",
          "data": {
            "text/plain": [
              "ID              int64\n",
              "Comp            int64\n",
              "Circ            int64\n",
              "D.Circ          int64\n",
              "Rad.Ra          int64\n",
              "Pr.Axis.Ra      int64\n",
              "Max.L.Ra        int64\n",
              "Scat.Ra         int64\n",
              "Elong           int64\n",
              "Pr.Axis.Rect    int64\n",
              "Max.L.Rect      int64\n",
              "Sc.Var.Maxis    int64\n",
              "Sc.Var.maxis    int64\n",
              "Ra.Gyr          int64\n",
              "Skew.Maxis      int64\n",
              "Skew.maxis      int64\n",
              "Kurt.maxis      int64\n",
              "Kurt.Maxis      int64\n",
              "Holl.Ra         int64\n",
              "Class           int64\n",
              "dtype: object"
            ]
          },
          "metadata": {},
          "execution_count": 70
        }
      ]
    },
    {
      "cell_type": "code",
      "source": [
        "X = cars_class.drop('Class',axis = 1)\n",
        "y = cars_class['Class']"
      ],
      "metadata": {
        "id": "UwUKBr8fwPB5"
      },
      "execution_count": 71,
      "outputs": []
    },
    {
      "cell_type": "code",
      "source": [
        "X.head()"
      ],
      "metadata": {
        "colab": {
          "base_uri": "https://localhost:8080/",
          "height": 270
        },
        "id": "wZ6bY6VLwjWQ",
        "outputId": "770106aa-5d5b-4f1a-d255-300d59acf93f"
      },
      "execution_count": 72,
      "outputs": [
        {
          "output_type": "execute_result",
          "data": {
            "text/plain": [
              "   ID  Comp  Circ  D.Circ  Rad.Ra  Pr.Axis.Ra  Max.L.Ra  Scat.Ra  Elong  \\\n",
              "0   1    88    39      70     166          66         7      148     44   \n",
              "1   2    85    35      64     129          57         6      116     57   \n",
              "2   3    91    41      84     141          57         9      149     45   \n",
              "3   4   102    54      98     177          56        10      219     31   \n",
              "4   5    87    39      74     152          58         6      151     44   \n",
              "\n",
              "   Pr.Axis.Rect  Max.L.Rect  Sc.Var.Maxis  Sc.Var.maxis  Ra.Gyr  Skew.Maxis  \\\n",
              "0            19         134           167           332     143          69   \n",
              "1            17         125           138           200     123          65   \n",
              "2            19         143           170           330     158          72   \n",
              "3            25         171           219           706     223          72   \n",
              "4            19         136           174           337     140          70   \n",
              "\n",
              "   Skew.maxis  Kurt.maxis  Kurt.Maxis  Holl.Ra  \n",
              "0           5          13         193      201  \n",
              "1           1          23         196      203  \n",
              "2           9          14         189      199  \n",
              "3           5          17         186      196  \n",
              "4           1          33         187      196  "
            ],
            "text/html": [
              "\n",
              "  <div id=\"df-afdccbaa-d5ff-4c53-bba0-95591cf33260\">\n",
              "    <div class=\"colab-df-container\">\n",
              "      <div>\n",
              "<style scoped>\n",
              "    .dataframe tbody tr th:only-of-type {\n",
              "        vertical-align: middle;\n",
              "    }\n",
              "\n",
              "    .dataframe tbody tr th {\n",
              "        vertical-align: top;\n",
              "    }\n",
              "\n",
              "    .dataframe thead th {\n",
              "        text-align: right;\n",
              "    }\n",
              "</style>\n",
              "<table border=\"1\" class=\"dataframe\">\n",
              "  <thead>\n",
              "    <tr style=\"text-align: right;\">\n",
              "      <th></th>\n",
              "      <th>ID</th>\n",
              "      <th>Comp</th>\n",
              "      <th>Circ</th>\n",
              "      <th>D.Circ</th>\n",
              "      <th>Rad.Ra</th>\n",
              "      <th>Pr.Axis.Ra</th>\n",
              "      <th>Max.L.Ra</th>\n",
              "      <th>Scat.Ra</th>\n",
              "      <th>Elong</th>\n",
              "      <th>Pr.Axis.Rect</th>\n",
              "      <th>Max.L.Rect</th>\n",
              "      <th>Sc.Var.Maxis</th>\n",
              "      <th>Sc.Var.maxis</th>\n",
              "      <th>Ra.Gyr</th>\n",
              "      <th>Skew.Maxis</th>\n",
              "      <th>Skew.maxis</th>\n",
              "      <th>Kurt.maxis</th>\n",
              "      <th>Kurt.Maxis</th>\n",
              "      <th>Holl.Ra</th>\n",
              "    </tr>\n",
              "  </thead>\n",
              "  <tbody>\n",
              "    <tr>\n",
              "      <th>0</th>\n",
              "      <td>1</td>\n",
              "      <td>88</td>\n",
              "      <td>39</td>\n",
              "      <td>70</td>\n",
              "      <td>166</td>\n",
              "      <td>66</td>\n",
              "      <td>7</td>\n",
              "      <td>148</td>\n",
              "      <td>44</td>\n",
              "      <td>19</td>\n",
              "      <td>134</td>\n",
              "      <td>167</td>\n",
              "      <td>332</td>\n",
              "      <td>143</td>\n",
              "      <td>69</td>\n",
              "      <td>5</td>\n",
              "      <td>13</td>\n",
              "      <td>193</td>\n",
              "      <td>201</td>\n",
              "    </tr>\n",
              "    <tr>\n",
              "      <th>1</th>\n",
              "      <td>2</td>\n",
              "      <td>85</td>\n",
              "      <td>35</td>\n",
              "      <td>64</td>\n",
              "      <td>129</td>\n",
              "      <td>57</td>\n",
              "      <td>6</td>\n",
              "      <td>116</td>\n",
              "      <td>57</td>\n",
              "      <td>17</td>\n",
              "      <td>125</td>\n",
              "      <td>138</td>\n",
              "      <td>200</td>\n",
              "      <td>123</td>\n",
              "      <td>65</td>\n",
              "      <td>1</td>\n",
              "      <td>23</td>\n",
              "      <td>196</td>\n",
              "      <td>203</td>\n",
              "    </tr>\n",
              "    <tr>\n",
              "      <th>2</th>\n",
              "      <td>3</td>\n",
              "      <td>91</td>\n",
              "      <td>41</td>\n",
              "      <td>84</td>\n",
              "      <td>141</td>\n",
              "      <td>57</td>\n",
              "      <td>9</td>\n",
              "      <td>149</td>\n",
              "      <td>45</td>\n",
              "      <td>19</td>\n",
              "      <td>143</td>\n",
              "      <td>170</td>\n",
              "      <td>330</td>\n",
              "      <td>158</td>\n",
              "      <td>72</td>\n",
              "      <td>9</td>\n",
              "      <td>14</td>\n",
              "      <td>189</td>\n",
              "      <td>199</td>\n",
              "    </tr>\n",
              "    <tr>\n",
              "      <th>3</th>\n",
              "      <td>4</td>\n",
              "      <td>102</td>\n",
              "      <td>54</td>\n",
              "      <td>98</td>\n",
              "      <td>177</td>\n",
              "      <td>56</td>\n",
              "      <td>10</td>\n",
              "      <td>219</td>\n",
              "      <td>31</td>\n",
              "      <td>25</td>\n",
              "      <td>171</td>\n",
              "      <td>219</td>\n",
              "      <td>706</td>\n",
              "      <td>223</td>\n",
              "      <td>72</td>\n",
              "      <td>5</td>\n",
              "      <td>17</td>\n",
              "      <td>186</td>\n",
              "      <td>196</td>\n",
              "    </tr>\n",
              "    <tr>\n",
              "      <th>4</th>\n",
              "      <td>5</td>\n",
              "      <td>87</td>\n",
              "      <td>39</td>\n",
              "      <td>74</td>\n",
              "      <td>152</td>\n",
              "      <td>58</td>\n",
              "      <td>6</td>\n",
              "      <td>151</td>\n",
              "      <td>44</td>\n",
              "      <td>19</td>\n",
              "      <td>136</td>\n",
              "      <td>174</td>\n",
              "      <td>337</td>\n",
              "      <td>140</td>\n",
              "      <td>70</td>\n",
              "      <td>1</td>\n",
              "      <td>33</td>\n",
              "      <td>187</td>\n",
              "      <td>196</td>\n",
              "    </tr>\n",
              "  </tbody>\n",
              "</table>\n",
              "</div>\n",
              "      <button class=\"colab-df-convert\" onclick=\"convertToInteractive('df-afdccbaa-d5ff-4c53-bba0-95591cf33260')\"\n",
              "              title=\"Convert this dataframe to an interactive table.\"\n",
              "              style=\"display:none;\">\n",
              "        \n",
              "  <svg xmlns=\"http://www.w3.org/2000/svg\" height=\"24px\"viewBox=\"0 0 24 24\"\n",
              "       width=\"24px\">\n",
              "    <path d=\"M0 0h24v24H0V0z\" fill=\"none\"/>\n",
              "    <path d=\"M18.56 5.44l.94 2.06.94-2.06 2.06-.94-2.06-.94-.94-2.06-.94 2.06-2.06.94zm-11 1L8.5 8.5l.94-2.06 2.06-.94-2.06-.94L8.5 2.5l-.94 2.06-2.06.94zm10 10l.94 2.06.94-2.06 2.06-.94-2.06-.94-.94-2.06-.94 2.06-2.06.94z\"/><path d=\"M17.41 7.96l-1.37-1.37c-.4-.4-.92-.59-1.43-.59-.52 0-1.04.2-1.43.59L10.3 9.45l-7.72 7.72c-.78.78-.78 2.05 0 2.83L4 21.41c.39.39.9.59 1.41.59.51 0 1.02-.2 1.41-.59l7.78-7.78 2.81-2.81c.8-.78.8-2.07 0-2.86zM5.41 20L4 18.59l7.72-7.72 1.47 1.35L5.41 20z\"/>\n",
              "  </svg>\n",
              "      </button>\n",
              "      \n",
              "  <style>\n",
              "    .colab-df-container {\n",
              "      display:flex;\n",
              "      flex-wrap:wrap;\n",
              "      gap: 12px;\n",
              "    }\n",
              "\n",
              "    .colab-df-convert {\n",
              "      background-color: #E8F0FE;\n",
              "      border: none;\n",
              "      border-radius: 50%;\n",
              "      cursor: pointer;\n",
              "      display: none;\n",
              "      fill: #1967D2;\n",
              "      height: 32px;\n",
              "      padding: 0 0 0 0;\n",
              "      width: 32px;\n",
              "    }\n",
              "\n",
              "    .colab-df-convert:hover {\n",
              "      background-color: #E2EBFA;\n",
              "      box-shadow: 0px 1px 2px rgba(60, 64, 67, 0.3), 0px 1px 3px 1px rgba(60, 64, 67, 0.15);\n",
              "      fill: #174EA6;\n",
              "    }\n",
              "\n",
              "    [theme=dark] .colab-df-convert {\n",
              "      background-color: #3B4455;\n",
              "      fill: #D2E3FC;\n",
              "    }\n",
              "\n",
              "    [theme=dark] .colab-df-convert:hover {\n",
              "      background-color: #434B5C;\n",
              "      box-shadow: 0px 1px 3px 1px rgba(0, 0, 0, 0.15);\n",
              "      filter: drop-shadow(0px 1px 2px rgba(0, 0, 0, 0.3));\n",
              "      fill: #FFFFFF;\n",
              "    }\n",
              "  </style>\n",
              "\n",
              "      <script>\n",
              "        const buttonEl =\n",
              "          document.querySelector('#df-afdccbaa-d5ff-4c53-bba0-95591cf33260 button.colab-df-convert');\n",
              "        buttonEl.style.display =\n",
              "          google.colab.kernel.accessAllowed ? 'block' : 'none';\n",
              "\n",
              "        async function convertToInteractive(key) {\n",
              "          const element = document.querySelector('#df-afdccbaa-d5ff-4c53-bba0-95591cf33260');\n",
              "          const dataTable =\n",
              "            await google.colab.kernel.invokeFunction('convertToInteractive',\n",
              "                                                     [key], {});\n",
              "          if (!dataTable) return;\n",
              "\n",
              "          const docLinkHtml = 'Like what you see? Visit the ' +\n",
              "            '<a target=\"_blank\" href=https://colab.research.google.com/notebooks/data_table.ipynb>data table notebook</a>'\n",
              "            + ' to learn more about interactive tables.';\n",
              "          element.innerHTML = '';\n",
              "          dataTable['output_type'] = 'display_data';\n",
              "          await google.colab.output.renderOutput(dataTable, element);\n",
              "          const docLink = document.createElement('div');\n",
              "          docLink.innerHTML = docLinkHtml;\n",
              "          element.appendChild(docLink);\n",
              "        }\n",
              "      </script>\n",
              "    </div>\n",
              "  </div>\n",
              "  "
            ]
          },
          "metadata": {},
          "execution_count": 72
        }
      ]
    },
    {
      "cell_type": "code",
      "source": [
        "from sklearn.model_selection import train_test_split"
      ],
      "metadata": {
        "id": "mqJ_P819wpwz"
      },
      "execution_count": 73,
      "outputs": []
    },
    {
      "cell_type": "code",
      "source": [
        "X_train,X_test,y_train,y_test = train_test_split(X,y,test_size = 0.2,random_state = 2) #Keeping 20% of the data aside as test data.\n"
      ],
      "metadata": {
        "id": "SDaX3e9awuBk"
      },
      "execution_count": 74,
      "outputs": []
    },
    {
      "cell_type": "code",
      "source": [
        "import seaborn as sns #visualizing data distribution"
      ],
      "metadata": {
        "id": "irwTvPyKx-ch"
      },
      "execution_count": 75,
      "outputs": []
    },
    {
      "cell_type": "code",
      "source": [
        "sns.boxplot(data = X_train)"
      ],
      "metadata": {
        "colab": {
          "base_uri": "https://localhost:8080/",
          "height": 282
        },
        "id": "jxoqdHQeyh2p",
        "outputId": "4c560a50-0207-4867-b749-e6405c6deb35"
      },
      "execution_count": 76,
      "outputs": [
        {
          "output_type": "execute_result",
          "data": {
            "text/plain": [
              "<matplotlib.axes._subplots.AxesSubplot at 0x7fd6d202b9d0>"
            ]
          },
          "metadata": {},
          "execution_count": 76
        },
        {
          "output_type": "display_data",
          "data": {
            "text/plain": [
              "<Figure size 432x288 with 1 Axes>"
            ],
            "image/png": "[encoded data removed]"
          },
          "metadata": {
            "needs_background": "light"
          }
        }
      ]
    },
    {
      "cell_type": "code",
      "source": [
        "# applying preprocessing techinique to overcome the variation in distribution of data\n",
        "from sklearn.preprocessing import StandardScaler"
      ],
      "metadata": {
        "id": "vSlIk6I_y0NA"
      },
      "execution_count": 77,
      "outputs": []
    },
    {
      "cell_type": "code",
      "source": [
        "SS = StandardScaler()"
      ],
      "metadata": {
        "id": "EU7lU7OazSY6"
      },
      "execution_count": 78,
      "outputs": []
    },
    {
      "cell_type": "code",
      "source": [
        "X_train = SS.fit_transform(X_train)"
      ],
      "metadata": {
        "id": "eMx2E532zfF5"
      },
      "execution_count": 79,
      "outputs": []
    },
    {
      "cell_type": "code",
      "source": [
        "sns.boxplot(data = X_train) #visualizing data distribution after applying preprocessing"
      ],
      "metadata": {
        "colab": {
          "base_uri": "https://localhost:8080/",
          "height": 282
        },
        "id": "P9Gri7GVzn27",
        "outputId": "18ba6b71-590c-44a4-c424-3d7f588a669c"
      },
      "execution_count": 80,
      "outputs": [
        {
          "output_type": "execute_result",
          "data": {
            "text/plain": [
              "<matplotlib.axes._subplots.AxesSubplot at 0x7fd6d1e4d390>"
            ]
          },
          "metadata": {},
          "execution_count": 80
        },
        {
          "output_type": "display_data",
          "data": {
            "text/plain": [
              "<Figure size 432x288 with 1 Axes>"
            ],
            "image/png": "[encoded data removed]"
          },
          "metadata": {
            "needs_background": "light"
          }
        }
      ]
    },
    {
      "cell_type": "code",
      "source": [
        "X_test = SS.transform(X_test)"
      ],
      "metadata": {
        "id": "QBGpCn9a2qmL"
      },
      "execution_count": 81,
      "outputs": []
    },
    {
      "cell_type": "markdown",
      "source": [
        "# Model Building"
      ],
      "metadata": {
        "id": "rZr0MiDxpyzF"
      }
    },
    {
      "cell_type": "code",
      "source": [
        "from sklearn.linear_model import LogisticRegression\n",
        "from sklearn.linear_model import SGDClassifier\n",
        "from sklearn.svm import SVC\n",
        "from sklearn.neighbors import KNeighborsClassifier\n",
        "from sklearn.tree import DecisionTreeClassifier\n",
        "from sklearn.ensemble import RandomForestClassifier\n",
        "from sklearn.ensemble import GradientBoostingClassifier"
      ],
      "metadata": {
        "id": "ca3CkcO50WJi"
      },
      "execution_count": 82,
      "outputs": []
    },
    {
      "cell_type": "code",
      "source": [
        "logreg = LogisticRegression()\n",
        "sgd = SGDClassifier()\n",
        "svc = SVC()\n",
        "knn = KNeighborsClassifier()\n",
        "dtc = DecisionTreeClassifier()\n",
        "rfc = RandomForestClassifier()\n",
        "gbc = GradientBoostingClassifier()"
      ],
      "metadata": {
        "id": "1d8SvFJ301qz"
      },
      "execution_count": 83,
      "outputs": []
    },
    {
      "cell_type": "code",
      "source": [
        "logreg.fit(X_train,y_train)\n",
        "sgd.fit(X_train,y_train)\n",
        "svc.fit(X_train,y_train)\n",
        "knn.fit(X_train,y_train)\n",
        "dtc.fit(X_train,y_train)\n",
        "rfc.fit(X_train,y_train)\n",
        "gbc.fit(X_train,y_train)"
      ],
      "metadata": {
        "colab": {
          "base_uri": "https://localhost:8080/"
        },
        "id": "ce57lFMu1SFS",
        "outputId": "f269a4fd-bf58-47e0-e043-f074f70b0683"
      },
      "execution_count": 84,
      "outputs": [
        {
          "output_type": "execute_result",
          "data": {
            "text/plain": [
              "GradientBoostingClassifier()"
            ]
          },
          "metadata": {},
          "execution_count": 84
        }
      ]
    },
    {
      "cell_type": "code",
      "source": [
        "# Accuracy score\n",
        "s1 = logreg.score(X_test,y_test)\n",
        "s2 = sgd.score(X_test,y_test)\n",
        "s3 = svc.score(X_test,y_test)\n",
        "s4 = knn.score(X_test,y_test)\n",
        "s5 = dtc.score(X_test,y_test)\n",
        "s6 = rfc.score(X_test,y_test)\n",
        "s7 = gbc.score(X_test,y_test)"
      ],
      "metadata": {
        "id": "rCCIBZt-1au2"
      },
      "execution_count": 85,
      "outputs": []
    },
    {
      "cell_type": "code",
      "source": [
        "scores = [s1,s2,s3,s4,s5,s6,s7]\n",
        "scores"
      ],
      "metadata": {
        "colab": {
          "base_uri": "https://localhost:8080/"
        },
        "id": "F4WGBWhwFBHP",
        "outputId": "ef9343ad-6aae-4f07-fcb7-e4c2e61e7e62"
      },
      "execution_count": 86,
      "outputs": [
        {
          "output_type": "execute_result",
          "data": {
            "text/plain": [
              "[0.8125,\n",
              " 0.75,\n",
              " 0.7986111111111112,\n",
              " 0.7569444444444444,\n",
              " 0.7013888888888888,\n",
              " 0.75,\n",
              " 0.75]"
            ]
          },
          "metadata": {},
          "execution_count": 86
        }
      ]
    },
    {
      "cell_type": "code",
      "source": [
        "import matplotlib.pyplot as plt\n",
        "import seaborn as sns"
      ],
      "metadata": {
        "id": "tOsp2wokGf4d"
      },
      "execution_count": 87,
      "outputs": []
    },
    {
      "cell_type": "code",
      "source": [
        "model = ['logreg','sgd','svc','knn','dtc','rfc','gbc']\n",
        "sns.barplot(x = model , y = scores)"
      ],
      "metadata": {
        "colab": {
          "base_uri": "https://localhost:8080/",
          "height": 282
        },
        "id": "1jvc7JInG1B6",
        "outputId": "83861a33-fb83-4168-da4f-6443a8a60924"
      },
      "execution_count": 88,
      "outputs": [
        {
          "output_type": "execute_result",
          "data": {
            "text/plain": [
              "<matplotlib.axes._subplots.AxesSubplot at 0x7fd6d1bb11d0>"
            ]
          },
          "metadata": {},
          "execution_count": 88
        },
        {
          "output_type": "display_data",
          "data": {
            "text/plain": [
              "<Figure size 432x288 with 1 Axes>"
            ],
            "image/png": "[encoded data removed]"
          },
          "metadata": {
            "needs_background": "light"
          }
        }
      ]
    },
    {
      "cell_type": "code",
      "source": [
        "# Observing the scores it is clear that Logistic Regression model gives high scores as compared to rest of the model."
      ],
      "metadata": {
        "id": "Ebe502TYA0XM"
      },
      "execution_count": 89,
      "outputs": []
    },
    {
      "cell_type": "code",
      "source": [
        "#tunning the parameters"
      ],
      "metadata": {
        "id": "m18E-4fFIHHh"
      },
      "execution_count": 90,
      "outputs": []
    },
    {
      "cell_type": "code",
      "source": [
        "# Logistic Regression Model\n",
        "from sklearn.model_selection import GridSearchCV"
      ],
      "metadata": {
        "id": "yCu7iCfVIPFr"
      },
      "execution_count": 91,
      "outputs": []
    },
    {
      "cell_type": "code",
      "source": [
        "param_grid = {'C':[0.001,0.01,0.1,1,10,100,1000],'solver':['newton-cg','liblinear','sag','saga'],'max_iter':[4000]}"
      ],
      "metadata": {
        "id": "-1PstoBwArV5"
      },
      "execution_count": 92,
      "outputs": []
    },
    {
      "cell_type": "code",
      "source": [
        "GSCV = GridSearchCV(LogisticRegression(), param_grid = param_grid,cv = 5)"
      ],
      "metadata": {
        "id": "xOqR25BBHCPY"
      },
      "execution_count": 93,
      "outputs": []
    },
    {
      "cell_type": "code",
      "source": [
        "GSCV.fit(X_train,y_train)"
      ],
      "metadata": {
        "colab": {
          "base_uri": "https://localhost:8080/"
        },
        "id": "QSecK-SJHOpT",
        "outputId": "294e4062-a560-4991-a5bc-6bed84dee245"
      },
      "execution_count": 94,
      "outputs": [
        {
          "output_type": "execute_result",
          "data": {
            "text/plain": [
              "GridSearchCV(cv=5, estimator=LogisticRegression(),\n",
              "             param_grid={'C': [0.001, 0.01, 0.1, 1, 10, 100, 1000],\n",
              "                         'max_iter': [4000],\n",
              "                         'solver': ['newton-cg', 'liblinear', 'sag', 'saga']})"
            ]
          },
          "metadata": {},
          "execution_count": 94
        }
      ]
    },
    {
      "cell_type": "code",
      "source": [
        "GSCV.best_params_"
      ],
      "metadata": {
        "colab": {
          "base_uri": "https://localhost:8080/"
        },
        "id": "ACTclRyEHazv",
        "outputId": "6030a065-4d33-4436-9884-122eb9c8b85f"
      },
      "execution_count": 95,
      "outputs": [
        {
          "output_type": "execute_result",
          "data": {
            "text/plain": [
              "{'C': 100, 'max_iter': 4000, 'solver': 'saga'}"
            ]
          },
          "metadata": {},
          "execution_count": 95
        }
      ]
    },
    {
      "cell_type": "code",
      "source": [
        "GSCV.best_score_"
      ],
      "metadata": {
        "colab": {
          "base_uri": "https://localhost:8080/"
        },
        "id": "gVPUHu-Ja3Ew",
        "outputId": "45f463f3-27e6-458d-d97a-1909d5fa4747"
      },
      "execution_count": 96,
      "outputs": [
        {
          "output_type": "execute_result",
          "data": {
            "text/plain": [
              "0.7947826086956523"
            ]
          },
          "metadata": {},
          "execution_count": 96
        }
      ]
    },
    {
      "cell_type": "code",
      "source": [
        "# SGD Model"
      ],
      "metadata": {
        "id": "Awjkh8xorU55"
      },
      "execution_count": 97,
      "outputs": []
    },
    {
      "cell_type": "code",
      "source": [
        "param_grid_1 = {'penalty': ['l2','l1','elasticnet'],'alpha':[0.001,0.1,0.2,0.5,0.9,1.0]}"
      ],
      "metadata": {
        "id": "AZhHw1pPr7BJ"
      },
      "execution_count": 98,
      "outputs": []
    },
    {
      "cell_type": "code",
      "source": [
        "GSCV_1 = GridSearchCV(SGDClassifier(),param_grid = param_grid_1,cv = 5)"
      ],
      "metadata": {
        "id": "Z2wz76Y4r9Kj"
      },
      "execution_count": 99,
      "outputs": []
    },
    {
      "cell_type": "code",
      "source": [
        "GSCV_1.fit(X_train,y_train)"
      ],
      "metadata": {
        "colab": {
          "base_uri": "https://localhost:8080/"
        },
        "id": "lY8IOG8ssHqN",
        "outputId": "9ae0b907-ce03-40a9-f128-1265bdb0b993"
      },
      "execution_count": 100,
      "outputs": [
        {
          "output_type": "execute_result",
          "data": {
            "text/plain": [
              "GridSearchCV(cv=5, estimator=SGDClassifier(),\n",
              "             param_grid={'alpha': [0.001, 0.1, 0.2, 0.5, 0.9, 1.0],\n",
              "                         'penalty': ['l2', 'l1', 'elasticnet']})"
            ]
          },
          "metadata": {},
          "execution_count": 100
        }
      ]
    },
    {
      "cell_type": "code",
      "source": [
        "GSCV_1.best_params_"
      ],
      "metadata": {
        "colab": {
          "base_uri": "https://localhost:8080/"
        },
        "id": "MYtjhL4hsKfS",
        "outputId": "df111b99-8826-4aa6-e106-68acc158e72d"
      },
      "execution_count": 101,
      "outputs": [
        {
          "output_type": "execute_result",
          "data": {
            "text/plain": [
              "{'alpha': 0.001, 'penalty': 'l1'}"
            ]
          },
          "metadata": {},
          "execution_count": 101
        }
      ]
    },
    {
      "cell_type": "code",
      "source": [
        "GSCV_1.best_score_"
      ],
      "metadata": {
        "colab": {
          "base_uri": "https://localhost:8080/"
        },
        "id": "aU4BHZaPsNP9",
        "outputId": "c158524c-2088-4e90-dc17-068734bf0117"
      },
      "execution_count": 102,
      "outputs": [
        {
          "output_type": "execute_result",
          "data": {
            "text/plain": [
              "0.76"
            ]
          },
          "metadata": {},
          "execution_count": 102
        }
      ]
    },
    {
      "cell_type": "code",
      "source": [
        "# SVC Model"
      ],
      "metadata": {
        "id": "_iDDvp92ficB"
      },
      "execution_count": 103,
      "outputs": []
    },
    {
      "cell_type": "code",
      "source": [
        "param_grid_2 = {'C':[0.1,0.9,10,15,20],'kernel':['linear', 'poly', 'rbf'],'degree':[2,3,4,5]}"
      ],
      "metadata": {
        "id": "8kOmdW--frhU"
      },
      "execution_count": 104,
      "outputs": []
    },
    {
      "cell_type": "code",
      "source": [
        "GSCV_2 = GridSearchCV(SVC(),param_grid = param_grid_2,cv = 5)"
      ],
      "metadata": {
        "id": "1PRZqDjajPtE"
      },
      "execution_count": 113,
      "outputs": []
    },
    {
      "cell_type": "code",
      "source": [
        "GSCV_2.fit(X_train,y_train)"
      ],
      "metadata": {
        "colab": {
          "base_uri": "https://localhost:8080/"
        },
        "id": "hqpBwRZxjbci",
        "outputId": "0985aef3-4114-4f2d-96e0-c2a9e3ef4e43"
      },
      "execution_count": 114,
      "outputs": [
        {
          "output_type": "execute_result",
          "data": {
            "text/plain": [
              "GridSearchCV(cv=5, estimator=SVC(),\n",
              "             param_grid={'C': [0.1, 0.9, 10, 15, 20], 'degree': [2, 3, 4, 5],\n",
              "                         'kernel': ['linear', 'poly', 'rbf']})"
            ]
          },
          "metadata": {},
          "execution_count": 114
        }
      ]
    },
    {
      "cell_type": "code",
      "source": [
        "GSCV_2.best_params_"
      ],
      "metadata": {
        "colab": {
          "base_uri": "https://localhost:8080/"
        },
        "id": "h6MT8-o_jf73",
        "outputId": "0a2980e2-0ad2-470e-e453-e8fd18d6e998"
      },
      "execution_count": 115,
      "outputs": [
        {
          "output_type": "execute_result",
          "data": {
            "text/plain": [
              "{'C': 20, 'degree': 2, 'kernel': 'linear'}"
            ]
          },
          "metadata": {},
          "execution_count": 115
        }
      ]
    },
    {
      "cell_type": "code",
      "source": [
        "GSCV_2.best_score_"
      ],
      "metadata": {
        "colab": {
          "base_uri": "https://localhost:8080/"
        },
        "id": "QaSwjmDljjV6",
        "outputId": "d12a9b4e-20ca-4a77-cfe4-9ec0ed701fbd"
      },
      "execution_count": 116,
      "outputs": [
        {
          "output_type": "execute_result",
          "data": {
            "text/plain": [
              "0.7982608695652174"
            ]
          },
          "metadata": {},
          "execution_count": 116
        }
      ]
    },
    {
      "cell_type": "code",
      "source": [
        "# Based on GSCV scores,it is clear that SVC Model gives best score so we c onsider it as our 'FINAL MODEL'."
      ],
      "metadata": {
        "id": "6PKJBAQBjo84"
      },
      "execution_count": 109,
      "outputs": []
    },
    {
      "cell_type": "code",
      "source": [
        "# Calculating f1-score\n",
        "from sklearn.metrics import f1_score\n",
        "y_pred = svc.predict(X_test)\n",
        "f1_score = f1_score(y_test,y_pred,average = 'weighted')\n",
        "f1_score"
      ],
      "metadata": {
        "id": "N4n2g4EdCqzw",
        "colab": {
          "base_uri": "https://localhost:8080/"
        },
        "outputId": "09f6bf30-c6a9-4835-cfd7-f2a61c6c86fc"
      },
      "execution_count": 117,
      "outputs": [
        {
          "output_type": "execute_result",
          "data": {
            "text/plain": [
              "0.798080093551108"
            ]
          },
          "metadata": {},
          "execution_count": 117
        }
      ]
    },
    {
      "cell_type": "code",
      "source": [
        "from sklearn.metrics import plot_confusion_matrix\n",
        "plot_confusion_matrix(svc,X_test,y_test)"
      ],
      "metadata": {
        "colab": {
          "base_uri": "https://localhost:8080/",
          "height": 351
        },
        "id": "onh8N4hTxkMF",
        "outputId": "c7653a24-e4c7-4385-c91a-a0a3343c2d5b"
      },
      "execution_count": 118,
      "outputs": [
        {
          "output_type": "stream",
          "name": "stderr",
          "text": [
            "/usr/local/lib/python3.7/dist-packages/sklearn/utils/deprecation.py:87: FutureWarning: Function plot_confusion_matrix is deprecated; Function `plot_confusion_matrix` is deprecated in 1.0 and will be removed in 1.2. Use one of the class methods: ConfusionMatrixDisplay.from_predictions or ConfusionMatrixDisplay.from_estimator.\n",
            "  warnings.warn(msg, category=FutureWarning)\n"
          ]
        },
        {
          "output_type": "execute_result",
          "data": {
            "text/plain": [
              "<sklearn.metrics._plot.confusion_matrix.ConfusionMatrixDisplay at 0x7fd6d1a4dc10>"
            ]
          },
          "metadata": {},
          "execution_count": 118
        },
        {
          "output_type": "display_data",
          "data": {
            "text/plain": [
              "<Figure size 432x288 with 2 Axes>"
            ],
            "image/png": "[encoded data removed]"
          },
          "metadata": {
            "needs_background": "light"
          }
        }
      ]
    },
    {
      "cell_type": "code",
      "source": [],
      "metadata": {
        "id": "2lPXVlZD1wXs"
      },
      "execution_count": 111,
      "outputs": []
    }
  ]
}